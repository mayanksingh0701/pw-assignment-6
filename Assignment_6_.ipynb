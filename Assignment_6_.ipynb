{
  "cells": [
    {
      "cell_type": "code",
      "execution_count": 1,
      "metadata": {
        "id": "cI6Zr1mBnR31"
      },
      "outputs": [],
      "source": [
        "#1 How can you open a file for writing in Python and write a string to it.\n",
        "text = open(\"text.txt\", \"w\")\n",
        "text.write(\"this is the first line in this file\")\n",
        "text.write(\"\\nthis is the second line in this file\")\n",
        "text.close()\n"
      ]
    },
    {
      "cell_type": "code",
      "execution_count": 5,
      "metadata": {
        "colab": {
          "base_uri": "https://localhost:8080/"
        },
        "id": "euL45sYgBy5t",
        "outputId": "cce875a2-3239-4419-eb64-5ac09f4af1d8"
      },
      "outputs": [
        {
          "output_type": "stream",
          "name": "stdout",
          "text": [
            "this is the first line in this file\n",
            "\n",
            "this is the second line in this file\n"
          ]
        }
      ],
      "source": [
        "#2. Write a Python program to read the contents of a file and print each line?\n",
        "text = open(\"text.txt\", \"r\")\n",
        "for line in text:\n",
        "  print(line)"
      ]
    },
    {
      "cell_type": "code",
      "execution_count": 6,
      "metadata": {
        "colab": {
          "base_uri": "https://localhost:8080/"
        },
        "id": "aTGfU_sNCVG0",
        "outputId": "c0a1a563-cb95-4b19-a3c0-435c12afda16"
      },
      "outputs": [
        {
          "output_type": "stream",
          "name": "stdout",
          "text": [
            "file not found\n"
          ]
        }
      ],
      "source": [
        "#3. How would you handle a case where the file doesn't exist while trying to open it for reading?\n",
        "try:\n",
        "  text = open(\"file.txt\", \"r\")\n",
        "  for line in text:\n",
        "    print(line)\n",
        "except FileNotFoundError:\n",
        "  print(\"file not found\")"
      ]
    },
    {
      "cell_type": "code",
      "execution_count": 7,
      "metadata": {
        "id": "VmRQpqg2DWQ9"
      },
      "outputs": [],
      "source": [
        "#4. Write a Python script that reads from one file and writes its content to another file?\n",
        "text = open(\"text.txt\", \"r\")\n",
        "text2 = open(\"text2.txt\", \"w\")\n",
        "for line in text:\n",
        "  text2.write(line)\n",
        "text.close()\n",
        "text2.close()"
      ]
    },
    {
      "cell_type": "code",
      "execution_count": 8,
      "metadata": {
        "colab": {
          "base_uri": "https://localhost:8080/"
        },
        "id": "ZYD88E9aEIrz",
        "outputId": "cb5deeee-3788-46af-e5d2-0985a0fb3732"
      },
      "outputs": [
        {
          "output_type": "stream",
          "name": "stdout",
          "text": [
            "division by zero\n"
          ]
        }
      ],
      "source": [
        "#5. How would you catch and handle division by zero error in Python?\n",
        "try:\n",
        "  x = 10/0\n",
        "  print(x)\n",
        "except ZeroDivisionError:\n",
        "  print(\"division by zero\")"
      ]
    },
    {
      "cell_type": "code",
      "execution_count": 9,
      "metadata": {
        "colab": {
          "base_uri": "https://localhost:8080/"
        },
        "id": "IxEH_Et-Ed9s",
        "outputId": "1e26d7f5-cf83-42a8-9daf-23e69fb2065a"
      },
      "outputs": [
        {
          "output_type": "stream",
          "name": "stderr",
          "text": [
            "ERROR:root:Division with zero error\n"
          ]
        }
      ],
      "source": [
        "#6. Write a Python program that logs an error message to a log file when a division by zero exception occurs?\n",
        "import logging\n",
        "try:\n",
        "  10/0\n",
        "except ZeroDivisionError:\n",
        "  logging.error(\"Division with zero error\")\n"
      ]
    },
    {
      "cell_type": "code",
      "execution_count": 10,
      "metadata": {
        "colab": {
          "base_uri": "https://localhost:8080/"
        },
        "id": "XNtgLwNKFAwd",
        "outputId": "659049df-9ba1-4a3c-9cee-ce291dc44812"
      },
      "outputs": [
        {
          "output_type": "stream",
          "name": "stderr",
          "text": [
            "WARNING:root:This is a warning message\n",
            "ERROR:root:This is an error message\n"
          ]
        }
      ],
      "source": [
        "#7. How do you log information at different levels (INFO, ERROR, WARNING) in Python using the logging modul?\n",
        "import logging\n",
        "logging.basicConfig(level=logging.INFO)\n",
        "logging.info(\"This is an info message\")\n",
        "logging.warning(\"This is a warning message\")\n",
        "logging.error(\"This is an error message\")"
      ]
    },
    {
      "cell_type": "code",
      "execution_count": 11,
      "metadata": {
        "colab": {
          "base_uri": "https://localhost:8080/"
        },
        "id": "CIIiu20eKuvL",
        "outputId": "0d2ba753-b7e5-44a6-aad5-cdbf2e6853c0"
      },
      "outputs": [
        {
          "output_type": "stream",
          "name": "stdout",
          "text": [
            "file not found\n"
          ]
        }
      ],
      "source": [
        "#8. Write a program to handle a file opening error using exception handling?\n",
        "try:\n",
        "  text = open(\"file.txt\", \"r\")\n",
        "  for line in text:\n",
        "    print(line)\n",
        "except FileNotFoundError:\n",
        "  print(\"file not found\")"
      ]
    },
    {
      "cell_type": "code",
      "execution_count": 12,
      "metadata": {
        "colab": {
          "base_uri": "https://localhost:8080/"
        },
        "id": "FMV6WhP-LAVe",
        "outputId": "84eb8146-32ca-4698-a098-a106f58da78c"
      },
      "outputs": [
        {
          "output_type": "stream",
          "name": "stdout",
          "text": [
            "['this is the first line in this file\\n', 'this is the second line in this file']\n"
          ]
        }
      ],
      "source": [
        "#9 How can you read a file line by line and store its content in a list in Python?\n",
        "text = open(\"text.txt\", \"r\")\n",
        "lines = text.readlines()\n",
        "print(lines)"
      ]
    },
    {
      "cell_type": "code",
      "execution_count": 13,
      "metadata": {
        "colab": {
          "base_uri": "https://localhost:8080/"
        },
        "id": "NzD4YD0ZLeGU",
        "outputId": "adfbf6a7-2af7-40e3-9651-70133409afc4"
      },
      "outputs": [
        {
          "output_type": "stream",
          "name": "stdout",
          "text": [
            "this is the first line in this file\n",
            "\n",
            "this is the second line in this file\n",
            "\n",
            "this is the third line in this file\n"
          ]
        }
      ],
      "source": [
        "#10.How can you append data to an existing file in Python?\n",
        "text = open(\"text.txt\", \"a\")\n",
        "text.write(\"\\nthis is the third line in this file\")\n",
        "text.close()\n",
        "text = open(\"text.txt\", \"r\")\n",
        "for line in text:\n",
        "  print(line)"
      ]
    },
    {
      "cell_type": "code",
      "execution_count": 14,
      "metadata": {
        "colab": {
          "base_uri": "https://localhost:8080/"
        },
        "id": "sDZCSuBMLkPE",
        "outputId": "481ac327-ca88-4900-f950-561eebd7b7bc"
      },
      "outputs": [
        {
          "output_type": "stream",
          "name": "stdout",
          "text": [
            "key not found\n"
          ]
        }
      ],
      "source": [
        "#11 Write a Python program that uses a try-except block to handle an error when attempting to access a dictionary key that doesn't exist\n",
        "try:\n",
        "  dict = {\"a\": 1, \"b\": 2, \"c\": 3}\n",
        "  print(dict[\"d\"])\n",
        "except KeyError:\n",
        "  print(\"key not found\")"
      ]
    },
    {
      "cell_type": "code",
      "execution_count": 15,
      "metadata": {
        "colab": {
          "base_uri": "https://localhost:8080/"
        },
        "id": "xOnbBZTGML6w",
        "outputId": "5144c33b-b947-4d70-a86a-9a6f3e19119e"
      },
      "outputs": [
        {
          "output_type": "stream",
          "name": "stdout",
          "text": [
            "division error\n"
          ]
        }
      ],
      "source": [
        "#12 Write a program that demonstrates using multiple except blocks to handle different types of exceptions.\n",
        "try:\n",
        "  10/0\n",
        "except ZeroDivisionError:\n",
        "  print(\"division error\")\n",
        "except TypeError:\n",
        "  print(\"type error\")"
      ]
    },
    {
      "cell_type": "code",
      "execution_count": 16,
      "metadata": {
        "colab": {
          "base_uri": "https://localhost:8080/"
        },
        "id": "zY1aZvg8M_W-",
        "outputId": "effb1f30-f018-48e8-8e7f-0edc90e4252d"
      },
      "outputs": [
        {
          "output_type": "stream",
          "name": "stdout",
          "text": [
            "file not found\n"
          ]
        }
      ],
      "source": [
        "#13. How would you check if a file exists before attempting to read it in Python?\n",
        "import os\n",
        "if os.path.exists(\"file.txt\"):\n",
        "  file = open(\"file.txt\", \"r\")\n",
        "  for line in file:\n",
        "    print(line)\n",
        "else:\n",
        "  print(\"file not found\")"
      ]
    },
    {
      "cell_type": "code",
      "execution_count": 17,
      "metadata": {
        "colab": {
          "base_uri": "https://localhost:8080/"
        },
        "id": "eS6FfZBCNUUc",
        "outputId": "51076433-02ed-450c-957c-d76c07580934"
      },
      "outputs": [
        {
          "output_type": "stream",
          "name": "stderr",
          "text": [
            "WARNING:root:This is a warning message\n",
            "ERROR:root:This is an error message\n"
          ]
        }
      ],
      "source": [
        "#14. Write a program that uses the logging module to log both informational and error messages?\n",
        "import logging\n",
        "logging.basicConfig(level=logging.INFO)\n",
        "logging.info(\"This is an info message\")\n",
        "logging.warning(\"This is a warning message\")\n",
        "logging.error(\"This is an error message\")"
      ]
    },
    {
      "cell_type": "code",
      "execution_count": 21,
      "metadata": {
        "id": "Watr486zSVCx"
      },
      "outputs": [],
      "source": [
        "#15. Write a Python program that prints the content of a file and handles the case when the file is empty\n",
        "def print_file_content(filename):\n",
        "  try:\n",
        "    with open(filename, 'r') as file:\n",
        "      content = file.read()\n",
        "      if content:\n",
        "        print(content)\n",
        "      else:\n",
        "        print(f\"The file '{filename}' is empty.\")\n",
        "  except FileNotFoundError:\n",
        "    print(f\"File '{filename}' not found.\")\n"
      ]
    },
    {
      "cell_type": "code",
      "execution_count": 20,
      "metadata": {
        "id": "dbYb7TpITQmJ"
      },
      "outputs": [],
      "source": [
        "#16 Demonstrate how to use memory profiling to check the memory usage of a small program\n",
        "from memory_profiler import profile\n",
        "\n",
        "@profile\n",
        "def my_function():\n",
        "  # Some code here\n",
        "  pass\n",
        "\n",
        "my_function()"
      ]
    },
    {
      "cell_type": "code",
      "execution_count": 22,
      "metadata": {
        "colab": {
          "base_uri": "https://localhost:8080/"
        },
        "id": "IgupraIDk-zp",
        "outputId": "8f1c6cae-028e-4392-c8c0-dae51f99563c"
      },
      "outputs": [
        {
          "output_type": "stream",
          "name": "stdout",
          "text": [
            "1\n",
            "\n",
            "2\n",
            "\n",
            "3\n",
            "\n",
            "4\n",
            "\n",
            "5\n",
            "\n"
          ]
        }
      ],
      "source": [
        "#17 Write a Python program to create and write a list of numbers to a file, one number per line\n",
        "numbers = [1, 2, 3, 4, 5]\n",
        "with open(\"numbers.txt\", \"w\") as file:\n",
        "  for number in numbers:\n",
        "    file.write(str(number) + \"\\n\")\n",
        "f = open (\"numbers.txt\", \"r\")\n",
        "for line in f:\n",
        "  print(line)"
      ]
    },
    {
      "cell_type": "code",
      "execution_count": 23,
      "metadata": {
        "colab": {
          "base_uri": "https://localhost:8080/"
        },
        "id": "1kHIPpUulHEg",
        "outputId": "a2c1ebf2-f855-47dc-b4ae-40ad8065c108"
      },
      "outputs": [
        {
          "output_type": "stream",
          "name": "stderr",
          "text": [
            "INFO:__main__:This is an info message.\n",
            "WARNING:__main__:This is a warning message.\n",
            "ERROR:__main__:This is an error message.\n"
          ]
        }
      ],
      "source": [
        "#18 How would you implement a basic logging setup that logs to a file with rotation after 1MB?\n",
        "import logging\n",
        "from logging.handlers import RotatingFileHandler\n",
        "\n",
        "# Configure logging\n",
        "logger = logging.getLogger(__name__)\n",
        "logger.setLevel(logging.INFO)\n",
        "\n",
        "# Create a RotatingFileHandler\n",
        "handler = RotatingFileHandler('my_app.log', maxBytes=1024*1024, backupCount=5)\n",
        "handler.setLevel(logging.INFO)\n",
        "\n",
        "# Create a formatter and set it for the handler\n",
        "formatter = logging.Formatter('%(asctime)s - %(name)s - %(levelname)s - %(message)s')\n",
        "handler.setFormatter(formatter)\n",
        "\n",
        "# Add the handler to the logger\n",
        "logger.addHandler(handler)\n",
        "\n",
        "# Example usage\n",
        "logger.info(\"This is an info message.\")\n",
        "logger.warning(\"This is a warning message.\")\n",
        "logger.error(\"This is an error message.\")"
      ]
    },
    {
      "cell_type": "code",
      "execution_count": 24,
      "metadata": {
        "colab": {
          "base_uri": "https://localhost:8080/"
        },
        "id": "yVaRMIOIrZjJ",
        "outputId": "4924fb3c-d923-41a0-e364-71d1b4797643"
      },
      "outputs": [
        {
          "output_type": "stream",
          "name": "stdout",
          "text": [
            "index error\n"
          ]
        }
      ],
      "source": [
        "#19.Write a program that handles both IndexError and KeyError using a try-except block\n",
        "try:\n",
        "  list = [1, 2, 3]\n",
        "  print(list[3])\n",
        "  dict = {\"a\" : 1, \"b\" : 2, \"c\" : 3}\n",
        "  print(dict[\"d\"])\n",
        "except IndexError:\n",
        "  print(\"index error\")\n",
        "except KeyError:\n",
        "  print(\"key error\")"
      ]
    },
    {
      "cell_type": "code",
      "execution_count": 25,
      "metadata": {
        "colab": {
          "base_uri": "https://localhost:8080/"
        },
        "id": "C7mt1Mjnsl22",
        "outputId": "b55e93aa-b851-42f9-86e7-576ea6735a79"
      },
      "outputs": [
        {
          "output_type": "stream",
          "name": "stdout",
          "text": [
            "this is the first line in this file\n",
            "this is the second line in this file\n",
            "this is the third line in this file\n",
            "True\n"
          ]
        }
      ],
      "source": [
        "#20 How would you open a file and read its contents using a context manager in Python?\n",
        "with open(\"text.txt\", \"r\") as file:\n",
        "    content = file.read()\n",
        "    print(content)\n",
        "print(file.closed)"
      ]
    },
    {
      "cell_type": "code",
      "execution_count": 26,
      "metadata": {
        "colab": {
          "base_uri": "https://localhost:8080/"
        },
        "id": "pWLX_c9Nwz3x",
        "outputId": "365b0a83-2f12-48e6-da92-73e55fab2ac8"
      },
      "outputs": [
        {
          "output_type": "stream",
          "name": "stdout",
          "text": [
            "6\n"
          ]
        }
      ],
      "source": [
        "#21 Write a Python program that reads a file and prints the number of occurrences of a specific word\n",
        "def count_word_occurrences(filename, word):\n",
        "  count = 0\n",
        "  with open(filename, 'r') as file:\n",
        "    for line in file:\n",
        "      words = line.split()\n",
        "\n",
        "      for w in words:\n",
        "        if w.lower() == word.lower():\n",
        "          count += 1\n",
        "  return count\n",
        "\n",
        "occurrences = count_word_occurrences(\"text.txt\", \"this\")\n",
        "print(occurrences)\n"
      ]
    },
    {
      "cell_type": "code",
      "execution_count": 27,
      "metadata": {
        "colab": {
          "base_uri": "https://localhost:8080/"
        },
        "id": "KmjBbKLMLgs0",
        "outputId": "ca44b834-ce0d-48f4-dbc4-bf492eb7906b"
      },
      "outputs": [
        {
          "output_type": "stream",
          "name": "stdout",
          "text": [
            "False\n"
          ]
        }
      ],
      "source": [
        "#22 How can you check if a file is empty before attempting to read its contents?\n",
        "def is_file_empty(filename):\n",
        "  with open(filename, 'r') as file:\n",
        "    content = file.read()\n",
        "    return not content\n",
        "\n",
        "empty = is_file_empty(\"text.txt\")\n",
        "print(empty)"
      ]
    },
    {
      "cell_type": "code",
      "execution_count": 28,
      "metadata": {
        "colab": {
          "base_uri": "https://localhost:8080/"
        },
        "id": "JQ1FKt1iTMTc",
        "outputId": "3dbff237-49cd-4393-8109-810640b8b0dc"
      },
      "outputs": [
        {
          "output_type": "stream",
          "name": "stderr",
          "text": [
            "ERROR:root:file not found\n"
          ]
        }
      ],
      "source": [
        "#23 Write a Python program that writes to a log file when an error occurs during file handling.\n",
        "import logging\n",
        "try:\n",
        "  file = open(\"file.txt\", \"r\")\n",
        "  for line in file:\n",
        "    print(line)\n",
        "except FileNotFoundError:\n",
        "  logging.error(\"file not found\")\n",
        "\n"
      ]
    },
    {
      "cell_type": "code",
      "execution_count": null,
      "metadata": {
        "id": "u0avV26ST3L7"
      },
      "outputs": [],
      "source": []
    }
  ],
  "metadata": {
    "colab": {
      "provenance": []
    },
    "kernelspec": {
      "display_name": "Python 3",
      "name": "python3"
    },
    "language_info": {
      "name": "python"
    }
  },
  "nbformat": 4,
  "nbformat_minor": 0
}